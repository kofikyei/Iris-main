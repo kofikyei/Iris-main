{
  "nbformat": 4,
  "nbformat_minor": 0,
  "metadata": {
    "language_info": {
      "codemirror_mode": {
        "name": "ipython",
        "version": 3
      },
      "file_extension": ".py",
      "mimetype": "text/x-python",
      "name": "python",
      "nbconvert_exporter": "python",
      "pygments_lexer": "ipython3",
      "version": "3.7.9-final"
    },
    "orig_nbformat": 2,
    "kernelspec": {
      "name": "Python 3.7.9 64-bit",
      "display_name": "Python 3.7.9 64-bit",
      "metadata": {
        "interpreter": {
          "hash": "e747db88c37e478d72b7abcf73eab62fba38d57615e7db0256b013a33d243b4b"
        }
      }
    },
    "colab": {
      "name": "1-Loadcsv.ipynb",
      "provenance": []
    }
  },
  "cells": [
    {
      "cell_type": "code",
      "metadata": {
        "id": "bd4DPFa0U5A0",
        "outputId": "cb1e6454-5b54-465d-9f21-34d354f0cf7a",
        "colab": {
          "base_uri": "https://localhost:8080/"
        }
      },
      "source": [
        "# Write a Python program to load the iris data from a given csv file into a dataframe and print the shape of the data, type of the data and first 3 rows\n",
        "import pandas as pd #pandas helps us deal with data analysis\n",
        "url = \"https://raw.githubusercontent.com/kofikyei/iris_main/main/iris.csv\"\n",
        "data = pd.read_csv(url) #read the csv from the raw data in github\n",
        "print(\"Shape of the data:\")\n",
        "print(data.shape) #shape returns (rows, columns)\n",
        "print(\"\\nData Type:\")\n",
        "print(type(data)) #returns the data type\n",
        "print(\"\\nFirst 3 rows:\")\n",
        "print(data.head(3)) #shows the first 3 rows"
      ],
      "execution_count": 1,
      "outputs": [
        {
          "output_type": "stream",
          "text": [
            "Shape of the data:\n",
            "(150, 6)\n",
            "\n",
            "Data Type:\n",
            "<class 'pandas.core.frame.DataFrame'>\n",
            "\n",
            "First 3 rows:\n",
            "   Id  SepalLengthCm  SepalWidthCm  PetalLengthCm  PetalWidthCm      Species\n",
            "0   1            5.1           3.5            1.4           0.2  Iris-setosa\n",
            "1   2            4.9           3.0            1.4           0.2  Iris-setosa\n",
            "2   3            4.7           3.2            1.3           0.2  Iris-setosa\n"
          ],
          "name": "stdout"
        }
      ]
    },
    {
      "cell_type": "code",
      "metadata": {
        "id": "MD_dFvq8U5BC"
      },
      "source": [
        ""
      ],
      "execution_count": null,
      "outputs": []
    }
  ]
}