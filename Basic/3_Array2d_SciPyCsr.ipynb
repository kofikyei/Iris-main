{
  "nbformat": 4,
  "nbformat_minor": 0,
  "metadata": {
    "language_info": {
      "codemirror_mode": {
        "name": "ipython",
        "version": 3
      },
      "file_extension": ".py",
      "mimetype": "text/x-python",
      "name": "python",
      "nbconvert_exporter": "python",
      "pygments_lexer": "ipython3",
      "version": "3.7.9-final"
    },
    "orig_nbformat": 2,
    "kernelspec": {
      "name": "Python 3.7.9 64-bit",
      "display_name": "Python 3.7.9 64-bit",
      "metadata": {
        "interpreter": {
          "hash": "e747db88c37e478d72b7abcf73eab62fba38d57615e7db0256b013a33d243b4b"
        }
      }
    },
    "colab": {
      "name": "3-Array2d-SciPyCsr.ipynb",
      "provenance": []
    }
  },
  "cells": [
    {
      "cell_type": "code",
      "metadata": {
        "id": "Sg22-cm4V2d-",
        "outputId": "3b7a099c-f8c4-4e74-b1c7-cd40c020622d",
        "colab": {
          "base_uri": "https://localhost:8080/"
        }
      },
      "source": [
        "#Write a Python program to create a 2-D array with ones on the diagonal and zeros elsewhere. Now convert the NumPy array to a SciPy sparse matrix in CSR format.\n",
        "import numpy as np\n",
        "from scipy import sparse\n",
        "eye = np.eye(4)\n",
        "print(\"NumPy array:\\n\", eye)\n",
        "sparse_matrix = sparse.csr_matrix(eye)\n",
        "print(\"\\nSciPy sparse CSR matrix:\\n\", sparse_matrix)#Write a Python program to create a 2-D array with ones on the diagonal and zeros elsewhere. Now convert the NumPy array to a SciPy sparse matrix in CSR format.\n",
        "import numpy as np\n",
        "from scipy import sparse\n",
        "eye = np.eye(4)\n",
        "print(\"NumPy array:\\n\", eye)\n",
        "sparse_matrix = sparse.csr_matrix(eye)\n",
        "print(\"\\nSciPy sparse CSR matrix:\\n\", sparse_matrix)\n",
        "# From wikipedia :\n",
        "# In numerical analysis and scientific computing, a sparse matrix or sparse array is a matrix in which most of the elements are zero. By contrast, if most of the elements are nonzero, then the matrix is considered dense. The number of zero-valued elements divided by the total number of elements (e.g., m × n for an m × n matrix) is called the sparsity of the matrix (which is equal to 1 minus the density of the matrix). Using those definitions, a matrix will be sparse when its sparsity is greater than 0.5."
      ],
      "execution_count": 1,
      "outputs": [
        {
          "output_type": "stream",
          "text": [
            "NumPy array:\n",
            " [[1. 0. 0. 0.]\n",
            " [0. 1. 0. 0.]\n",
            " [0. 0. 1. 0.]\n",
            " [0. 0. 0. 1.]]\n",
            "\n",
            "SciPy sparse CSR matrix:\n",
            "   (0, 0)\t1.0\n",
            "  (1, 1)\t1.0\n",
            "  (2, 2)\t1.0\n",
            "  (3, 3)\t1.0\n",
            "NumPy array:\n",
            " [[1. 0. 0. 0.]\n",
            " [0. 1. 0. 0.]\n",
            " [0. 0. 1. 0.]\n",
            " [0. 0. 0. 1.]]\n",
            "\n",
            "SciPy sparse CSR matrix:\n",
            "   (0, 0)\t1.0\n",
            "  (1, 1)\t1.0\n",
            "  (2, 2)\t1.0\n",
            "  (3, 3)\t1.0\n"
          ],
          "name": "stdout"
        }
      ]
    },
    {
      "cell_type": "code",
      "metadata": {
        "id": "ciHlyf5RV2eR"
      },
      "source": [
        ""
      ],
      "execution_count": null,
      "outputs": []
    }
  ]
}