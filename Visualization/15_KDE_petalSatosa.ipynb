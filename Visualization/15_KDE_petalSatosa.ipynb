{
  "nbformat": 4,
  "nbformat_minor": 0,
  "metadata": {
    "language_info": {
      "codemirror_mode": {
        "name": "ipython",
        "version": 3
      },
      "file_extension": ".py",
      "mimetype": "text/x-python",
      "name": "python",
      "nbconvert_exporter": "python",
      "pygments_lexer": "ipython3",
      "version": "3.7.9-final"
    },
    "orig_nbformat": 2,
    "kernelspec": {
      "name": "Python 3.7.9 64-bit",
      "display_name": "Python 3.7.9 64-bit",
      "metadata": {
        "interpreter": {
          "hash": "e747db88c37e478d72b7abcf73eab62fba38d57615e7db0256b013a33d243b4b"
        }
      }
    },
    "colab": {
      "name": "15-KDE-petalSatosa.ipynb",
      "provenance": []
    }
  },
  "cells": [
    {
      "cell_type": "code",
      "metadata": {
        "id": "UQuiq_KlRV53",
        "outputId": "2dc768df-9552-46ee-d642-621b277b195f",
        "colab": {
          "base_uri": "https://localhost:8080/",
          "height": 350
        }
      },
      "source": [
        "# Import necessary modules \n",
        "import pandas as pd\n",
        "import seaborn as sns\n",
        "import matplotlib.pyplot as plt \n",
        "iris = pd.read_csv(\"https://raw.githubusercontent.com/kofikyei/iris_main/main/iris.csv\")\n",
        "#Drop id column\n",
        "iris = iris.drop('Id',axis=1)\n",
        "sub=iris[iris['Species']=='Iris-setosa']\n",
        "\n",
        "\n",
        "\n",
        "\n",
        "# ~\\AppData\\Local\\Programs\\Python\\Python37\\lib\\site-packages\\seaborn\\distributions.py in kdeplot(x, y, shade, vertical, kernel, bw, gridsize, cut, clip, legend, cumulative, shade_lowest, cbar, cbar_ax, cbar_kws, ax, weights, hue, palette, hue_order, hue_norm, multiple, common_norm, common_grid, levels, thresh, bw_method, bw_adjust, log_scale, color, fill, data, data2, **kwargs)\n",
        "#    1735             legend=legend,\n",
        "\n",
        "\n",
        "#cannot get the plasma rendering because seaborn kde plot does not recieve that function^^^^^^See error messege\n",
        "\n",
        "\n",
        "# sns.kdeplot(data=sub[['PetalLengthCm','PetalWidthCm']], shade=True, shade_lowest=False)\n",
        "\n",
        "x = sub['PetalLengthCm'] #calls the function sub which takes the column out of data\n",
        "y = sub['PetalWidthCm']\n",
        "sns.kdeplot(x,y,shade=True)\n",
        "\n",
        "\n",
        "\n",
        "plt.title('Iris-setosa')\n",
        "plt.xlabel('Petal Length Cm')\n",
        "plt.ylabel('Petal Width Cm')\n",
        "plt.show()\n"
      ],
      "execution_count": 1,
      "outputs": [
        {
          "output_type": "stream",
          "text": [
            "/usr/local/lib/python3.6/dist-packages/seaborn/_decorators.py:43: FutureWarning: Pass the following variable as a keyword arg: y. From version 0.12, the only valid positional argument will be `data`, and passing other arguments without an explicit keyword will result in an error or misinterpretation.\n",
            "  FutureWarning\n"
          ],
          "name": "stderr"
        },
        {
          "output_type": "display_data",
          "data": {
            "image/png": "[encoded data removed]",
            "text/plain": [
              "<Figure size 432x288 with 1 Axes>"
            ]
          },
          "metadata": {
            "tags": [],
            "needs_background": "light"
          }
        }
      ]
    },
    {
      "cell_type": "code",
      "metadata": {
        "id": "ITHxmuLGRV6H"
      },
      "source": [
        ""
      ],
      "execution_count": null,
      "outputs": []
    }
  ]
}