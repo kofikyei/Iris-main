{
  "nbformat": 4,
  "nbformat_minor": 0,
  "metadata": {
    "language_info": {
      "codemirror_mode": {
        "name": "ipython",
        "version": 3
      },
      "file_extension": ".py",
      "mimetype": "text/x-python",
      "name": "python",
      "nbconvert_exporter": "python",
      "pygments_lexer": "ipython3",
      "version": "3.7.9-final"
    },
    "orig_nbformat": 2,
    "kernelspec": {
      "name": "Python 3.7.9 64-bit",
      "display_name": "Python 3.7.9 64-bit",
      "metadata": {
        "interpreter": {
          "hash": "e747db88c37e478d72b7abcf73eab62fba38d57615e7db0256b013a33d243b4b"
        }
      }
    },
    "colab": {
      "name": "17-HitMap.ipynb",
      "provenance": []
    }
  },
  "cells": [
    {
      "cell_type": "code",
      "metadata": {
        "id": "kI9-BppKTBQ9",
        "outputId": "0e474de0-a33b-4be2-cac9-42d51da42706",
        "colab": {
          "base_uri": "https://localhost:8080/",
          "height": 574
        }
      },
      "source": [
        "import pandas as pd\n",
        "import numpy as np\n",
        "import matplotlib.pyplot as plt\n",
        "import seaborn as sns\n",
        "iris = pd.read_csv(\"https://raw.githubusercontent.com/kofikyei/iris_main/main/iris.csv\")\n",
        "#Drop id column\n",
        "iris = iris.drop('Id',axis=1)\n",
        "X = iris.iloc[:, 0:4]\n",
        "f, ax = plt.subplots(figsize=(10, 8))\n",
        "corr = X.corr()\n",
        "print(corr)\n",
        "sns.heatmap(corr, mask=np.zeros_like(corr, dtype=np.bool), \n",
        "          cmap=sns.diverging_palette(220, 10, as_cmap=True),square=True, ax=ax, linewidths=.5)\n",
        "plt.show() \n"
      ],
      "execution_count": 1,
      "outputs": [
        {
          "output_type": "stream",
          "text": [
            "               SepalLengthCm  SepalWidthCm  PetalLengthCm  PetalWidthCm\n",
            "SepalLengthCm       1.000000     -0.109369       0.871754      0.817954\n",
            "SepalWidthCm       -0.109369      1.000000      -0.420516     -0.356544\n",
            "PetalLengthCm       0.871754     -0.420516       1.000000      0.962757\n",
            "PetalWidthCm        0.817954     -0.356544       0.962757      1.000000\n"
          ],
          "name": "stdout"
        },
        {
          "output_type": "display_data",
          "data": {
            "image/png": "[encoded data removed]",
            "text/plain": [
              "<Figure size 720x576 with 2 Axes>"
            ]
          },
          "metadata": {
            "tags": [],
            "needs_background": "light"
          }
        }
      ]
    },
    {
      "cell_type": "code",
      "metadata": {
        "id": "_hHaytThTBRO"
      },
      "source": [
        ""
      ],
      "execution_count": null,
      "outputs": []
    }
  ]
}